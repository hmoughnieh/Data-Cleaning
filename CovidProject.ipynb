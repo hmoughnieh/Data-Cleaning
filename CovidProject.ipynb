{
    "metadata": {
        "kernelspec": {
            "name": "SQL",
            "display_name": "SQL",
            "language": "sql"
        },
        "language_info": {
            "name": "sql",
            "version": ""
        }
    },
    "nbformat_minor": 2,
    "nbformat": 4,
    "cells": [
        {
            "cell_type": "code",
            "source": [
                "Select top 20 *\r\n",
                "From CovidDeaths\r\n",
                "order by 3, 4"
            ],
            "metadata": {
                "azdata_cell_guid": "6d8a6856-3b87-415c-90d0-68f8f5b55d15",
                "language": "sql"
            },
            "outputs": [
                {
                    "output_type": "display_data",
                    "data": {
                        "text/html": "(20 rows affected)"
                    },
                    "metadata": {}
                },
                {
                    "output_type": "display_data",
                    "data": {
                        "text/html": "Total execution time: 00:00:00.208"
                    },
                    "metadata": {}
                },
                {
                    "output_type": "execute_result",
                    "metadata": {},
                    "execution_count": 1,
                    "data": {
                        "application/vnd.dataresource+json": {
                            "schema": {
                                "fields": [
                                    {
                                        "name": "iso_code"
                                    },
                                    {
                                        "name": "continent"
                                    },
                                    {
                                        "name": "location"
                                    },
                                    {
                                        "name": "date"
                                    },
                                    {
                                        "name": "total_cases"
                                    },
                                    {
                                        "name": "new_cases"
                                    },
                                    {
                                        "name": "new_cases_smoothed"
                                    },
                                    {
                                        "name": "total_deaths"
                                    },
                                    {
                                        "name": "new_deaths"
                                    },
                                    {
                                        "name": "new_deaths_smoothed"
                                    },
                                    {
                                        "name": "total_cases_per_million"
                                    },
                                    {
                                        "name": "new_cases_per_million"
                                    },
                                    {
                                        "name": "new_cases_smoothed_per_million"
                                    },
                                    {
                                        "name": "total_deaths_per_million"
                                    },
                                    {
                                        "name": "new_deaths_per_million"
                                    },
                                    {
                                        "name": "new_deaths_smoothed_per_million"
                                    },
                                    {
                                        "name": "reproduction_rate"
                                    },
                                    {
                                        "name": "icu_patients"
                                    },
                                    {
                                        "name": "icu_patients_per_million"
                                    },
                                    {
                                        "name": "hosp_patients"
                                    },
                                    {
                                        "name": "hosp_patients_per_million"
                                    },
                                    {
                                        "name": "weekly_icu_admissions"
                                    },
                                    {
                                        "name": "weekly_icu_admissions_per_million"
                                    },
                                    {
                                        "name": "weekly_hosp_admissions"
                                    },
                                    {
                                        "name": "weekly_hosp_admissions_per_million"
                                    },
                                    {
                                        "name": "new_tests"
                                    },
                                    {
                                        "name": "total_tests"
                                    },
                                    {
                                        "name": "total_tests_per_thousand"
                                    },
                                    {
                                        "name": "new_tests_per_thousand"
                                    },
                                    {
                                        "name": "new_tests_smoothed"
                                    },
                                    {
                                        "name": "new_tests_smoothed_per_thousand"
                                    },
                                    {
                                        "name": "positive_rate"
                                    },
                                    {
                                        "name": "tests_per_case"
                                    },
                                    {
                                        "name": "tests_units"
                                    },
                                    {
                                        "name": "total_vaccinations"
                                    },
                                    {
                                        "name": "people_vaccinated"
                                    },
                                    {
                                        "name": "people_fully_vaccinated"
                                    },
                                    {
                                        "name": "new_vaccinations"
                                    },
                                    {
                                        "name": "new_vaccinations_smoothed"
                                    },
                                    {
                                        "name": "total_vaccinations_per_hundred"
                                    },
                                    {
                                        "name": "people_vaccinated_per_hundred"
                                    },
                                    {
                                        "name": "people_fully_vaccinated_per_hundred"
                                    },
                                    {
                                        "name": "new_vaccinations_smoothed_per_million"
                                    },
                                    {
                                        "name": "stringency_index"
                                    },
                                    {
                                        "name": "population"
                                    },
                                    {
                                        "name": "population_density"
                                    },
                                    {
                                        "name": "median_age"
                                    },
                                    {
                                        "name": "aged_65_older"
                                    },
                                    {
                                        "name": "aged_70_older"
                                    },
                                    {
                                        "name": "gdp_per_capita"
                                    },
                                    {
                                        "name": "extreme_poverty"
                                    },
                                    {
                                        "name": "cardiovasc_death_rate"
                                    },
                                    {
                                        "name": "diabetes_prevalence"
                                    },
                                    {
                                        "name": "female_smokers"
                                    },
                                    {
                                        "name": "male_smokers"
                                    },
                                    {
                                        "name": "handwashing_facilities"
                                    },
                                    {
                                        "name": "hospital_beds_per_thousand"
                                    },
                                    {
                                        "name": "life_expectancy"
                                    },
                                    {
                                        "name": "human_development_index"
                                    }
                                ]
                            },
                            "data": [
                                {
                                    "0": "AFG",
                                    "1": "Asia",
                                    "2": "Afghanistan",
                                    "3": "2020-02-24 00:00:00.000",
                                    "4": "1",
                                    "5": "1",
                                    "6": "NULL",
                                    "7": "NULL",
                                    "8": "NULL",
                                    "9": "NULL",
                                    "10": "0.026",
                                    "11": "0.026",
                                    "12": "NULL",
                                    "13": "NULL",
                                    "14": "NULL",
                                    "15": "NULL",
                                    "16": "NULL",
                                    "17": "NULL",
                                    "18": "NULL",
                                    "19": "NULL",
                                    "20": "NULL",
                                    "21": "NULL",
                                    "22": "NULL",
                                    "23": "NULL",
                                    "24": "NULL",
                                    "25": "NULL",
                                    "26": "NULL",
                                    "27": "NULL",
                                    "28": "NULL",
                                    "29": "NULL",
                                    "30": "NULL",
                                    "31": "NULL",
                                    "32": "NULL",
                                    "33": "NULL",
                                    "34": "NULL",
                                    "35": "NULL",
                                    "36": "NULL",
                                    "37": "NULL",
                                    "38": "NULL",
                                    "39": "NULL",
                                    "40": "NULL",
                                    "41": "NULL",
                                    "42": "NULL",
                                    "43": "8.33",
                                    "44": "38928341",
                                    "45": "54.422",
                                    "46": "18.6",
                                    "47": "2.581",
                                    "48": "1.337",
                                    "49": "1803.987",
                                    "50": "NULL",
                                    "51": "597.029",
                                    "52": "9.59",
                                    "53": "NULL",
                                    "54": "NULL",
                                    "55": "37.746",
                                    "56": "0.5",
                                    "57": "64.83",
                                    "58": "0.511"
                                },
                                {
                                    "0": "AFG",
                                    "1": "Asia",
                                    "2": "Afghanistan",
                                    "3": "2020-02-25 00:00:00.000",
                                    "4": "1",
                                    "5": "0",
                                    "6": "NULL",
                                    "7": "NULL",
                                    "8": "NULL",
                                    "9": "NULL",
                                    "10": "0.026",
                                    "11": "0",
                                    "12": "NULL",
                                    "13": "NULL",
                                    "14": "NULL",
                                    "15": "NULL",
                                    "16": "NULL",
                                    "17": "NULL",
                                    "18": "NULL",
                                    "19": "NULL",
                                    "20": "NULL",
                                    "21": "NULL",
                                    "22": "NULL",
                                    "23": "NULL",
                                    "24": "NULL",
                                    "25": "NULL",
                                    "26": "NULL",
                                    "27": "NULL",
                                    "28": "NULL",
                                    "29": "NULL",
                                    "30": "NULL",
                                    "31": "NULL",
                                    "32": "NULL",
                                    "33": "NULL",
                                    "34": "NULL",
                                    "35": "NULL",
                                    "36": "NULL",
                                    "37": "NULL",
                                    "38": "NULL",
                                    "39": "NULL",
                                    "40": "NULL",
                                    "41": "NULL",
                                    "42": "NULL",
                                    "43": "8.33",
                                    "44": "38928341",
                                    "45": "54.422",
                                    "46": "18.6",
                                    "47": "2.581",
                                    "48": "1.337",
                                    "49": "1803.987",
                                    "50": "NULL",
                                    "51": "597.029",
                                    "52": "9.59",
                                    "53": "NULL",
                                    "54": "NULL",
                                    "55": "37.746",
                                    "56": "0.5",
                                    "57": "64.83",
                                    "58": "0.511"
                                },
                                {
                                    "0": "AFG",
                                    "1": "Asia",
                                    "2": "Afghanistan",
                                    "3": "2020-02-26 00:00:00.000",
                                    "4": "1",
                                    "5": "0",
                                    "6": "NULL",
                                    "7": "NULL",
                                    "8": "NULL",
                                    "9": "NULL",
                                    "10": "0.026",
                                    "11": "0",
                                    "12": "NULL",
                                    "13": "NULL",
                                    "14": "NULL",
                                    "15": "NULL",
                                    "16": "NULL",
                                    "17": "NULL",
                                    "18": "NULL",
                                    "19": "NULL",
                                    "20": "NULL",
                                    "21": "NULL",
                                    "22": "NULL",
                                    "23": "NULL",
                                    "24": "NULL",
                                    "25": "NULL",
                                    "26": "NULL",
                                    "27": "NULL",
                                    "28": "NULL",
                                    "29": "NULL",
                                    "30": "NULL",
                                    "31": "NULL",
                                    "32": "NULL",
                                    "33": "NULL",
                                    "34": "NULL",
                                    "35": "NULL",
                                    "36": "NULL",
                                    "37": "NULL",
                                    "38": "NULL",
                                    "39": "NULL",
                                    "40": "NULL",
                                    "41": "NULL",
                                    "42": "NULL",
                                    "43": "8.33",
                                    "44": "38928341",
                                    "45": "54.422",
                                    "46": "18.6",
                                    "47": "2.581",
                                    "48": "1.337",
                                    "49": "1803.987",
                                    "50": "NULL",
                                    "51": "597.029",
                                    "52": "9.59",
                                    "53": "NULL",
                                    "54": "NULL",
                                    "55": "37.746",
                                    "56": "0.5",
                                    "57": "64.83",
                                    "58": "0.511"
                                },
                                {
                                    "0": "AFG",
                                    "1": "Asia",
                                    "2": "Afghanistan",
                                    "3": "2020-02-27 00:00:00.000",
                                    "4": "1",
                                    "5": "0",
                                    "6": "NULL",
                                    "7": "NULL",
                                    "8": "NULL",
                                    "9": "NULL",
                                    "10": "0.026",
                                    "11": "0",
                                    "12": "NULL",
                                    "13": "NULL",
                                    "14": "NULL",
                                    "15": "NULL",
                                    "16": "NULL",
                                    "17": "NULL",
                                    "18": "NULL",
                                    "19": "NULL",
                                    "20": "NULL",
                                    "21": "NULL",
                                    "22": "NULL",
                                    "23": "NULL",
                                    "24": "NULL",
                                    "25": "NULL",
                                    "26": "NULL",
                                    "27": "NULL",
                                    "28": "NULL",
                                    "29": "NULL",
                                    "30": "NULL",
                                    "31": "NULL",
                                    "32": "NULL",
                                    "33": "NULL",
                                    "34": "NULL",
                                    "35": "NULL",
                                    "36": "NULL",
                                    "37": "NULL",
                                    "38": "NULL",
                                    "39": "NULL",
                                    "40": "NULL",
                                    "41": "NULL",
                                    "42": "NULL",
                                    "43": "8.33",
                                    "44": "38928341",
                                    "45": "54.422",
                                    "46": "18.6",
                                    "47": "2.581",
                                    "48": "1.337",
                                    "49": "1803.987",
                                    "50": "NULL",
                                    "51": "597.029",
                                    "52": "9.59",
                                    "53": "NULL",
                                    "54": "NULL",
                                    "55": "37.746",
                                    "56": "0.5",
                                    "57": "64.83",
                                    "58": "0.511"
                                },
                                {
                                    "0": "AFG",
                                    "1": "Asia",
                                    "2": "Afghanistan",
                                    "3": "2020-02-28 00:00:00.000",
                                    "4": "1",
                                    "5": "0",
                                    "6": "NULL",
                                    "7": "NULL",
                                    "8": "NULL",
                                    "9": "NULL",
                                    "10": "0.026",
                                    "11": "0",
                                    "12": "NULL",
                                    "13": "NULL",
                                    "14": "NULL",
                                    "15": "NULL",
                                    "16": "NULL",
                                    "17": "NULL",
                                    "18": "NULL",
                                    "19": "NULL",
                                    "20": "NULL",
                                    "21": "NULL",
                                    "22": "NULL",
                                    "23": "NULL",
                                    "24": "NULL",
                                    "25": "NULL",
                                    "26": "NULL",
                                    "27": "NULL",
                                    "28": "NULL",
                                    "29": "NULL",
                                    "30": "NULL",
                                    "31": "NULL",
                                    "32": "NULL",
                                    "33": "NULL",
                                    "34": "NULL",
                                    "35": "NULL",
                                    "36": "NULL",
                                    "37": "NULL",
                                    "38": "NULL",
                                    "39": "NULL",
                                    "40": "NULL",
                                    "41": "NULL",
                                    "42": "NULL",
                                    "43": "8.33",
                                    "44": "38928341",
                                    "45": "54.422",
                                    "46": "18.6",
                                    "47": "2.581",
                                    "48": "1.337",
                                    "49": "1803.987",
                                    "50": "NULL",
                                    "51": "597.029",
                                    "52": "9.59",
                                    "53": "NULL",
                                    "54": "NULL",
                                    "55": "37.746",
                                    "56": "0.5",
                                    "57": "64.83",
                                    "58": "0.511"
                                },
                                {
                                    "0": "AFG",
                                    "1": "Asia",
                                    "2": "Afghanistan",
                                    "3": "2020-02-29 00:00:00.000",
                                    "4": "1",
                                    "5": "0",
                                    "6": "0.143",
                                    "7": "NULL",
                                    "8": "NULL",
                                    "9": "0",
                                    "10": "0.026",
                                    "11": "0",
                                    "12": "0.004",
                                    "13": "NULL",
                                    "14": "NULL",
                                    "15": "0",
                                    "16": "NULL",
                                    "17": "NULL",
                                    "18": "NULL",
                                    "19": "NULL",
                                    "20": "NULL",
                                    "21": "NULL",
                                    "22": "NULL",
                                    "23": "NULL",
                                    "24": "NULL",
                                    "25": "NULL",
                                    "26": "NULL",
                                    "27": "NULL",
                                    "28": "NULL",
                                    "29": "NULL",
                                    "30": "NULL",
                                    "31": "NULL",
                                    "32": "NULL",
                                    "33": "NULL",
                                    "34": "NULL",
                                    "35": "NULL",
                                    "36": "NULL",
                                    "37": "NULL",
                                    "38": "NULL",
                                    "39": "NULL",
                                    "40": "NULL",
                                    "41": "NULL",
                                    "42": "NULL",
                                    "43": "8.33",
                                    "44": "38928341",
                                    "45": "54.422",
                                    "46": "18.6",
                                    "47": "2.581",
                                    "48": "1.337",
                                    "49": "1803.987",
                                    "50": "NULL",
                                    "51": "597.029",
                                    "52": "9.59",
                                    "53": "NULL",
                                    "54": "NULL",
                                    "55": "37.746",
                                    "56": "0.5",
                                    "57": "64.83",
                                    "58": "0.511"
                                },
                                {
                                    "0": "AFG",
                                    "1": "Asia",
                                    "2": "Afghanistan",
                                    "3": "2020-03-01 00:00:00.000",
                                    "4": "1",
                                    "5": "0",
                                    "6": "0.143",
                                    "7": "NULL",
                                    "8": "NULL",
                                    "9": "0",
                                    "10": "0.026",
                                    "11": "0",
                                    "12": "0.004",
                                    "13": "NULL",
                                    "14": "NULL",
                                    "15": "0",
                                    "16": "NULL",
                                    "17": "NULL",
                                    "18": "NULL",
                                    "19": "NULL",
                                    "20": "NULL",
                                    "21": "NULL",
                                    "22": "NULL",
                                    "23": "NULL",
                                    "24": "NULL",
                                    "25": "NULL",
                                    "26": "NULL",
                                    "27": "NULL",
                                    "28": "NULL",
                                    "29": "NULL",
                                    "30": "NULL",
                                    "31": "NULL",
                                    "32": "NULL",
                                    "33": "NULL",
                                    "34": "NULL",
                                    "35": "NULL",
                                    "36": "NULL",
                                    "37": "NULL",
                                    "38": "NULL",
                                    "39": "NULL",
                                    "40": "NULL",
                                    "41": "NULL",
                                    "42": "NULL",
                                    "43": "27.78",
                                    "44": "38928341",
                                    "45": "54.422",
                                    "46": "18.6",
                                    "47": "2.581",
                                    "48": "1.337",
                                    "49": "1803.987",
                                    "50": "NULL",
                                    "51": "597.029",
                                    "52": "9.59",
                                    "53": "NULL",
                                    "54": "NULL",
                                    "55": "37.746",
                                    "56": "0.5",
                                    "57": "64.83",
                                    "58": "0.511"
                                },
                                {
                                    "0": "AFG",
                                    "1": "Asia",
                                    "2": "Afghanistan",
                                    "3": "2020-03-02 00:00:00.000",
                                    "4": "1",
                                    "5": "0",
                                    "6": "0",
                                    "7": "NULL",
                                    "8": "NULL",
                                    "9": "0",
                                    "10": "0.026",
                                    "11": "0",
                                    "12": "0",
                                    "13": "NULL",
                                    "14": "NULL",
                                    "15": "0",
                                    "16": "NULL",
                                    "17": "NULL",
                                    "18": "NULL",
                                    "19": "NULL",
                                    "20": "NULL",
                                    "21": "NULL",
                                    "22": "NULL",
                                    "23": "NULL",
                                    "24": "NULL",
                                    "25": "NULL",
                                    "26": "NULL",
                                    "27": "NULL",
                                    "28": "NULL",
                                    "29": "NULL",
                                    "30": "NULL",
                                    "31": "NULL",
                                    "32": "NULL",
                                    "33": "NULL",
                                    "34": "NULL",
                                    "35": "NULL",
                                    "36": "NULL",
                                    "37": "NULL",
                                    "38": "NULL",
                                    "39": "NULL",
                                    "40": "NULL",
                                    "41": "NULL",
                                    "42": "NULL",
                                    "43": "27.78",
                                    "44": "38928341",
                                    "45": "54.422",
                                    "46": "18.6",
                                    "47": "2.581",
                                    "48": "1.337",
                                    "49": "1803.987",
                                    "50": "NULL",
                                    "51": "597.029",
                                    "52": "9.59",
                                    "53": "NULL",
                                    "54": "NULL",
                                    "55": "37.746",
                                    "56": "0.5",
                                    "57": "64.83",
                                    "58": "0.511"
                                },
                                {
                                    "0": "AFG",
                                    "1": "Asia",
                                    "2": "Afghanistan",
                                    "3": "2020-03-03 00:00:00.000",
                                    "4": "2",
                                    "5": "1",
                                    "6": "0.143",
                                    "7": "NULL",
                                    "8": "NULL",
                                    "9": "0",
                                    "10": "0.051",
                                    "11": "0.026",
                                    "12": "0.004",
                                    "13": "NULL",
                                    "14": "NULL",
                                    "15": "0",
                                    "16": "NULL",
                                    "17": "NULL",
                                    "18": "NULL",
                                    "19": "NULL",
                                    "20": "NULL",
                                    "21": "NULL",
                                    "22": "NULL",
                                    "23": "NULL",
                                    "24": "NULL",
                                    "25": "NULL",
                                    "26": "NULL",
                                    "27": "NULL",
                                    "28": "NULL",
                                    "29": "NULL",
                                    "30": "NULL",
                                    "31": "NULL",
                                    "32": "NULL",
                                    "33": "NULL",
                                    "34": "NULL",
                                    "35": "NULL",
                                    "36": "NULL",
                                    "37": "NULL",
                                    "38": "NULL",
                                    "39": "NULL",
                                    "40": "NULL",
                                    "41": "NULL",
                                    "42": "NULL",
                                    "43": "27.78",
                                    "44": "38928341",
                                    "45": "54.422",
                                    "46": "18.6",
                                    "47": "2.581",
                                    "48": "1.337",
                                    "49": "1803.987",
                                    "50": "NULL",
                                    "51": "597.029",
                                    "52": "9.59",
                                    "53": "NULL",
                                    "54": "NULL",
                                    "55": "37.746",
                                    "56": "0.5",
                                    "57": "64.83",
                                    "58": "0.511"
                                },
                                {
                                    "0": "AFG",
                                    "1": "Asia",
                                    "2": "Afghanistan",
                                    "3": "2020-03-04 00:00:00.000",
                                    "4": "4",
                                    "5": "2",
                                    "6": "0.429",
                                    "7": "NULL",
                                    "8": "NULL",
                                    "9": "0",
                                    "10": "0.103",
                                    "11": "0.051",
                                    "12": "0.011",
                                    "13": "NULL",
                                    "14": "NULL",
                                    "15": "0",
                                    "16": "NULL",
                                    "17": "NULL",
                                    "18": "NULL",
                                    "19": "NULL",
                                    "20": "NULL",
                                    "21": "NULL",
                                    "22": "NULL",
                                    "23": "NULL",
                                    "24": "NULL",
                                    "25": "NULL",
                                    "26": "NULL",
                                    "27": "NULL",
                                    "28": "NULL",
                                    "29": "NULL",
                                    "30": "NULL",
                                    "31": "NULL",
                                    "32": "NULL",
                                    "33": "NULL",
                                    "34": "NULL",
                                    "35": "NULL",
                                    "36": "NULL",
                                    "37": "NULL",
                                    "38": "NULL",
                                    "39": "NULL",
                                    "40": "NULL",
                                    "41": "NULL",
                                    "42": "NULL",
                                    "43": "27.78",
                                    "44": "38928341",
                                    "45": "54.422",
                                    "46": "18.6",
                                    "47": "2.581",
                                    "48": "1.337",
                                    "49": "1803.987",
                                    "50": "NULL",
                                    "51": "597.029",
                                    "52": "9.59",
                                    "53": "NULL",
                                    "54": "NULL",
                                    "55": "37.746",
                                    "56": "0.5",
                                    "57": "64.83",
                                    "58": "0.511"
                                },
                                {
                                    "0": "AFG",
                                    "1": "Asia",
                                    "2": "Afghanistan",
                                    "3": "2020-03-05 00:00:00.000",
                                    "4": "4",
                                    "5": "0",
                                    "6": "0.429",
                                    "7": "NULL",
                                    "8": "NULL",
                                    "9": "0",
                                    "10": "0.103",
                                    "11": "0",
                                    "12": "0.011",
                                    "13": "NULL",
                                    "14": "NULL",
                                    "15": "0",
                                    "16": "NULL",
                                    "17": "NULL",
                                    "18": "NULL",
                                    "19": "NULL",
                                    "20": "NULL",
                                    "21": "NULL",
                                    "22": "NULL",
                                    "23": "NULL",
                                    "24": "NULL",
                                    "25": "NULL",
                                    "26": "NULL",
                                    "27": "NULL",
                                    "28": "NULL",
                                    "29": "NULL",
                                    "30": "NULL",
                                    "31": "NULL",
                                    "32": "NULL",
                                    "33": "NULL",
                                    "34": "NULL",
                                    "35": "NULL",
                                    "36": "NULL",
                                    "37": "NULL",
                                    "38": "NULL",
                                    "39": "NULL",
                                    "40": "NULL",
                                    "41": "NULL",
                                    "42": "NULL",
                                    "43": "27.78",
                                    "44": "38928341",
                                    "45": "54.422",
                                    "46": "18.6",
                                    "47": "2.581",
                                    "48": "1.337",
                                    "49": "1803.987",
                                    "50": "NULL",
                                    "51": "597.029",
                                    "52": "9.59",
                                    "53": "NULL",
                                    "54": "NULL",
                                    "55": "37.746",
                                    "56": "0.5",
                                    "57": "64.83",
                                    "58": "0.511"
                                },
                                {
                                    "0": "AFG",
                                    "1": "Asia",
                                    "2": "Afghanistan",
                                    "3": "2020-03-06 00:00:00.000",
                                    "4": "4",
                                    "5": "0",
                                    "6": "0.429",
                                    "7": "NULL",
                                    "8": "NULL",
                                    "9": "0",
                                    "10": "0.103",
                                    "11": "0",
                                    "12": "0.011",
                                    "13": "NULL",
                                    "14": "NULL",
                                    "15": "0",
                                    "16": "NULL",
                                    "17": "NULL",
                                    "18": "NULL",
                                    "19": "NULL",
                                    "20": "NULL",
                                    "21": "NULL",
                                    "22": "NULL",
                                    "23": "NULL",
                                    "24": "NULL",
                                    "25": "NULL",
                                    "26": "NULL",
                                    "27": "NULL",
                                    "28": "NULL",
                                    "29": "NULL",
                                    "30": "NULL",
                                    "31": "NULL",
                                    "32": "NULL",
                                    "33": "NULL",
                                    "34": "NULL",
                                    "35": "NULL",
                                    "36": "NULL",
                                    "37": "NULL",
                                    "38": "NULL",
                                    "39": "NULL",
                                    "40": "NULL",
                                    "41": "NULL",
                                    "42": "NULL",
                                    "43": "27.78",
                                    "44": "38928341",
                                    "45": "54.422",
                                    "46": "18.6",
                                    "47": "2.581",
                                    "48": "1.337",
                                    "49": "1803.987",
                                    "50": "NULL",
                                    "51": "597.029",
                                    "52": "9.59",
                                    "53": "NULL",
                                    "54": "NULL",
                                    "55": "37.746",
                                    "56": "0.5",
                                    "57": "64.83",
                                    "58": "0.511"
                                },
                                {
                                    "0": "AFG",
                                    "1": "Asia",
                                    "2": "Afghanistan",
                                    "3": "2020-03-07 00:00:00.000",
                                    "4": "4",
                                    "5": "0",
                                    "6": "0.429",
                                    "7": "NULL",
                                    "8": "NULL",
                                    "9": "0",
                                    "10": "0.103",
                                    "11": "0",
                                    "12": "0.011",
                                    "13": "NULL",
                                    "14": "NULL",
                                    "15": "0",
                                    "16": "NULL",
                                    "17": "NULL",
                                    "18": "NULL",
                                    "19": "NULL",
                                    "20": "NULL",
                                    "21": "NULL",
                                    "22": "NULL",
                                    "23": "NULL",
                                    "24": "NULL",
                                    "25": "NULL",
                                    "26": "NULL",
                                    "27": "NULL",
                                    "28": "NULL",
                                    "29": "NULL",
                                    "30": "NULL",
                                    "31": "NULL",
                                    "32": "NULL",
                                    "33": "NULL",
                                    "34": "NULL",
                                    "35": "NULL",
                                    "36": "NULL",
                                    "37": "NULL",
                                    "38": "NULL",
                                    "39": "NULL",
                                    "40": "NULL",
                                    "41": "NULL",
                                    "42": "NULL",
                                    "43": "27.78",
                                    "44": "38928341",
                                    "45": "54.422",
                                    "46": "18.6",
                                    "47": "2.581",
                                    "48": "1.337",
                                    "49": "1803.987",
                                    "50": "NULL",
                                    "51": "597.029",
                                    "52": "9.59",
                                    "53": "NULL",
                                    "54": "NULL",
                                    "55": "37.746",
                                    "56": "0.5",
                                    "57": "64.83",
                                    "58": "0.511"
                                },
                                {
                                    "0": "AFG",
                                    "1": "Asia",
                                    "2": "Afghanistan",
                                    "3": "2020-03-08 00:00:00.000",
                                    "4": "5",
                                    "5": "1",
                                    "6": "0.571",
                                    "7": "NULL",
                                    "8": "NULL",
                                    "9": "0",
                                    "10": "0.128",
                                    "11": "0.026",
                                    "12": "0.015",
                                    "13": "NULL",
                                    "14": "NULL",
                                    "15": "0",
                                    "16": "NULL",
                                    "17": "NULL",
                                    "18": "NULL",
                                    "19": "NULL",
                                    "20": "NULL",
                                    "21": "NULL",
                                    "22": "NULL",
                                    "23": "NULL",
                                    "24": "NULL",
                                    "25": "NULL",
                                    "26": "NULL",
                                    "27": "NULL",
                                    "28": "NULL",
                                    "29": "NULL",
                                    "30": "NULL",
                                    "31": "NULL",
                                    "32": "NULL",
                                    "33": "NULL",
                                    "34": "NULL",
                                    "35": "NULL",
                                    "36": "NULL",
                                    "37": "NULL",
                                    "38": "NULL",
                                    "39": "NULL",
                                    "40": "NULL",
                                    "41": "NULL",
                                    "42": "NULL",
                                    "43": "27.78",
                                    "44": "38928341",
                                    "45": "54.422",
                                    "46": "18.6",
                                    "47": "2.581",
                                    "48": "1.337",
                                    "49": "1803.987",
                                    "50": "NULL",
                                    "51": "597.029",
                                    "52": "9.59",
                                    "53": "NULL",
                                    "54": "NULL",
                                    "55": "37.746",
                                    "56": "0.5",
                                    "57": "64.83",
                                    "58": "0.511"
                                },
                                {
                                    "0": "AFG",
                                    "1": "Asia",
                                    "2": "Afghanistan",
                                    "3": "2020-03-09 00:00:00.000",
                                    "4": "7",
                                    "5": "2",
                                    "6": "0.857",
                                    "7": "NULL",
                                    "8": "NULL",
                                    "9": "0",
                                    "10": "0.18",
                                    "11": "0.051",
                                    "12": "0.022",
                                    "13": "NULL",
                                    "14": "NULL",
                                    "15": "0",
                                    "16": "NULL",
                                    "17": "NULL",
                                    "18": "NULL",
                                    "19": "NULL",
                                    "20": "NULL",
                                    "21": "NULL",
                                    "22": "NULL",
                                    "23": "NULL",
                                    "24": "NULL",
                                    "25": "NULL",
                                    "26": "NULL",
                                    "27": "NULL",
                                    "28": "NULL",
                                    "29": "NULL",
                                    "30": "NULL",
                                    "31": "NULL",
                                    "32": "NULL",
                                    "33": "NULL",
                                    "34": "NULL",
                                    "35": "NULL",
                                    "36": "NULL",
                                    "37": "NULL",
                                    "38": "NULL",
                                    "39": "NULL",
                                    "40": "NULL",
                                    "41": "NULL",
                                    "42": "NULL",
                                    "43": "27.78",
                                    "44": "38928341",
                                    "45": "54.422",
                                    "46": "18.6",
                                    "47": "2.581",
                                    "48": "1.337",
                                    "49": "1803.987",
                                    "50": "NULL",
                                    "51": "597.029",
                                    "52": "9.59",
                                    "53": "NULL",
                                    "54": "NULL",
                                    "55": "37.746",
                                    "56": "0.5",
                                    "57": "64.83",
                                    "58": "0.511"
                                },
                                {
                                    "0": "AFG",
                                    "1": "Asia",
                                    "2": "Afghanistan",
                                    "3": "2020-03-10 00:00:00.000",
                                    "4": "8",
                                    "5": "1",
                                    "6": "0.857",
                                    "7": "NULL",
                                    "8": "NULL",
                                    "9": "0",
                                    "10": "0.206",
                                    "11": "0.026",
                                    "12": "0.022",
                                    "13": "NULL",
                                    "14": "NULL",
                                    "15": "0",
                                    "16": "NULL",
                                    "17": "NULL",
                                    "18": "NULL",
                                    "19": "NULL",
                                    "20": "NULL",
                                    "21": "NULL",
                                    "22": "NULL",
                                    "23": "NULL",
                                    "24": "NULL",
                                    "25": "NULL",
                                    "26": "NULL",
                                    "27": "NULL",
                                    "28": "NULL",
                                    "29": "NULL",
                                    "30": "NULL",
                                    "31": "NULL",
                                    "32": "NULL",
                                    "33": "NULL",
                                    "34": "NULL",
                                    "35": "NULL",
                                    "36": "NULL",
                                    "37": "NULL",
                                    "38": "NULL",
                                    "39": "NULL",
                                    "40": "NULL",
                                    "41": "NULL",
                                    "42": "NULL",
                                    "43": "27.78",
                                    "44": "38928341",
                                    "45": "54.422",
                                    "46": "18.6",
                                    "47": "2.581",
                                    "48": "1.337",
                                    "49": "1803.987",
                                    "50": "NULL",
                                    "51": "597.029",
                                    "52": "9.59",
                                    "53": "NULL",
                                    "54": "NULL",
                                    "55": "37.746",
                                    "56": "0.5",
                                    "57": "64.83",
                                    "58": "0.511"
                                },
                                {
                                    "0": "AFG",
                                    "1": "Asia",
                                    "2": "Afghanistan",
                                    "3": "2020-03-11 00:00:00.000",
                                    "4": "11",
                                    "5": "3",
                                    "6": "1",
                                    "7": "NULL",
                                    "8": "NULL",
                                    "9": "0",
                                    "10": "0.283",
                                    "11": "0.077",
                                    "12": "0.026",
                                    "13": "NULL",
                                    "14": "NULL",
                                    "15": "0",
                                    "16": "NULL",
                                    "17": "NULL",
                                    "18": "NULL",
                                    "19": "NULL",
                                    "20": "NULL",
                                    "21": "NULL",
                                    "22": "NULL",
                                    "23": "NULL",
                                    "24": "NULL",
                                    "25": "NULL",
                                    "26": "NULL",
                                    "27": "NULL",
                                    "28": "NULL",
                                    "29": "NULL",
                                    "30": "NULL",
                                    "31": "NULL",
                                    "32": "NULL",
                                    "33": "NULL",
                                    "34": "NULL",
                                    "35": "NULL",
                                    "36": "NULL",
                                    "37": "NULL",
                                    "38": "NULL",
                                    "39": "NULL",
                                    "40": "NULL",
                                    "41": "NULL",
                                    "42": "NULL",
                                    "43": "27.78",
                                    "44": "38928341",
                                    "45": "54.422",
                                    "46": "18.6",
                                    "47": "2.581",
                                    "48": "1.337",
                                    "49": "1803.987",
                                    "50": "NULL",
                                    "51": "597.029",
                                    "52": "9.59",
                                    "53": "NULL",
                                    "54": "NULL",
                                    "55": "37.746",
                                    "56": "0.5",
                                    "57": "64.83",
                                    "58": "0.511"
                                },
                                {
                                    "0": "AFG",
                                    "1": "Asia",
                                    "2": "Afghanistan",
                                    "3": "2020-03-12 00:00:00.000",
                                    "4": "12",
                                    "5": "1",
                                    "6": "1.143",
                                    "7": "NULL",
                                    "8": "NULL",
                                    "9": "0",
                                    "10": "0.308",
                                    "11": "0.026",
                                    "12": "0.029",
                                    "13": "NULL",
                                    "14": "NULL",
                                    "15": "0",
                                    "16": "NULL",
                                    "17": "NULL",
                                    "18": "NULL",
                                    "19": "NULL",
                                    "20": "NULL",
                                    "21": "NULL",
                                    "22": "NULL",
                                    "23": "NULL",
                                    "24": "NULL",
                                    "25": "NULL",
                                    "26": "NULL",
                                    "27": "NULL",
                                    "28": "NULL",
                                    "29": "NULL",
                                    "30": "NULL",
                                    "31": "NULL",
                                    "32": "NULL",
                                    "33": "NULL",
                                    "34": "NULL",
                                    "35": "NULL",
                                    "36": "NULL",
                                    "37": "NULL",
                                    "38": "NULL",
                                    "39": "NULL",
                                    "40": "NULL",
                                    "41": "NULL",
                                    "42": "NULL",
                                    "43": "27.78",
                                    "44": "38928341",
                                    "45": "54.422",
                                    "46": "18.6",
                                    "47": "2.581",
                                    "48": "1.337",
                                    "49": "1803.987",
                                    "50": "NULL",
                                    "51": "597.029",
                                    "52": "9.59",
                                    "53": "NULL",
                                    "54": "NULL",
                                    "55": "37.746",
                                    "56": "0.5",
                                    "57": "64.83",
                                    "58": "0.511"
                                },
                                {
                                    "0": "AFG",
                                    "1": "Asia",
                                    "2": "Afghanistan",
                                    "3": "2020-03-13 00:00:00.000",
                                    "4": "13",
                                    "5": "1",
                                    "6": "1.286",
                                    "7": "NULL",
                                    "8": "NULL",
                                    "9": "0",
                                    "10": "0.334",
                                    "11": "0.026",
                                    "12": "0.033",
                                    "13": "NULL",
                                    "14": "NULL",
                                    "15": "0",
                                    "16": "NULL",
                                    "17": "NULL",
                                    "18": "NULL",
                                    "19": "NULL",
                                    "20": "NULL",
                                    "21": "NULL",
                                    "22": "NULL",
                                    "23": "NULL",
                                    "24": "NULL",
                                    "25": "NULL",
                                    "26": "NULL",
                                    "27": "NULL",
                                    "28": "NULL",
                                    "29": "NULL",
                                    "30": "NULL",
                                    "31": "NULL",
                                    "32": "NULL",
                                    "33": "NULL",
                                    "34": "NULL",
                                    "35": "NULL",
                                    "36": "NULL",
                                    "37": "NULL",
                                    "38": "NULL",
                                    "39": "NULL",
                                    "40": "NULL",
                                    "41": "NULL",
                                    "42": "NULL",
                                    "43": "27.78",
                                    "44": "38928341",
                                    "45": "54.422",
                                    "46": "18.6",
                                    "47": "2.581",
                                    "48": "1.337",
                                    "49": "1803.987",
                                    "50": "NULL",
                                    "51": "597.029",
                                    "52": "9.59",
                                    "53": "NULL",
                                    "54": "NULL",
                                    "55": "37.746",
                                    "56": "0.5",
                                    "57": "64.83",
                                    "58": "0.511"
                                },
                                {
                                    "0": "AFG",
                                    "1": "Asia",
                                    "2": "Afghanistan",
                                    "3": "2020-03-14 00:00:00.000",
                                    "4": "15",
                                    "5": "2",
                                    "6": "1.571",
                                    "7": "NULL",
                                    "8": "NULL",
                                    "9": "0",
                                    "10": "0.385",
                                    "11": "0.051",
                                    "12": "0.04",
                                    "13": "NULL",
                                    "14": "NULL",
                                    "15": "0",
                                    "16": "NULL",
                                    "17": "NULL",
                                    "18": "NULL",
                                    "19": "NULL",
                                    "20": "NULL",
                                    "21": "NULL",
                                    "22": "NULL",
                                    "23": "NULL",
                                    "24": "NULL",
                                    "25": "NULL",
                                    "26": "NULL",
                                    "27": "NULL",
                                    "28": "NULL",
                                    "29": "NULL",
                                    "30": "NULL",
                                    "31": "NULL",
                                    "32": "NULL",
                                    "33": "NULL",
                                    "34": "NULL",
                                    "35": "NULL",
                                    "36": "NULL",
                                    "37": "NULL",
                                    "38": "NULL",
                                    "39": "NULL",
                                    "40": "NULL",
                                    "41": "NULL",
                                    "42": "NULL",
                                    "43": "38.89",
                                    "44": "38928341",
                                    "45": "54.422",
                                    "46": "18.6",
                                    "47": "2.581",
                                    "48": "1.337",
                                    "49": "1803.987",
                                    "50": "NULL",
                                    "51": "597.029",
                                    "52": "9.59",
                                    "53": "NULL",
                                    "54": "NULL",
                                    "55": "37.746",
                                    "56": "0.5",
                                    "57": "64.83",
                                    "58": "0.511"
                                }
                            ]
                        },
                        "text/html": [
                            "<table>",
                            "<tr><th>iso_code</th><th>continent</th><th>location</th><th>date</th><th>total_cases</th><th>new_cases</th><th>new_cases_smoothed</th><th>total_deaths</th><th>new_deaths</th><th>new_deaths_smoothed</th><th>total_cases_per_million</th><th>new_cases_per_million</th><th>new_cases_smoothed_per_million</th><th>total_deaths_per_million</th><th>new_deaths_per_million</th><th>new_deaths_smoothed_per_million</th><th>reproduction_rate</th><th>icu_patients</th><th>icu_patients_per_million</th><th>hosp_patients</th><th>hosp_patients_per_million</th><th>weekly_icu_admissions</th><th>weekly_icu_admissions_per_million</th><th>weekly_hosp_admissions</th><th>weekly_hosp_admissions_per_million</th><th>new_tests</th><th>total_tests</th><th>total_tests_per_thousand</th><th>new_tests_per_thousand</th><th>new_tests_smoothed</th><th>new_tests_smoothed_per_thousand</th><th>positive_rate</th><th>tests_per_case</th><th>tests_units</th><th>total_vaccinations</th><th>people_vaccinated</th><th>people_fully_vaccinated</th><th>new_vaccinations</th><th>new_vaccinations_smoothed</th><th>total_vaccinations_per_hundred</th><th>people_vaccinated_per_hundred</th><th>people_fully_vaccinated_per_hundred</th><th>new_vaccinations_smoothed_per_million</th><th>stringency_index</th><th>population</th><th>population_density</th><th>median_age</th><th>aged_65_older</th><th>aged_70_older</th><th>gdp_per_capita</th><th>extreme_poverty</th><th>cardiovasc_death_rate</th><th>diabetes_prevalence</th><th>female_smokers</th><th>male_smokers</th><th>handwashing_facilities</th><th>hospital_beds_per_thousand</th><th>life_expectancy</th><th>human_development_index</th></tr>",
                            "<tr><td>AFG</td><td>Asia</td><td>Afghanistan</td><td>2020-02-24 00:00:00.000</td><td>1</td><td>1</td><td>NULL</td><td>NULL</td><td>NULL</td><td>NULL</td><td>0.026</td><td>0.026</td><td>NULL</td><td>NULL</td><td>NULL</td><td>NULL</td><td>NULL</td><td>NULL</td><td>NULL</td><td>NULL</td><td>NULL</td><td>NULL</td><td>NULL</td><td>NULL</td><td>NULL</td><td>NULL</td><td>NULL</td><td>NULL</td><td>NULL</td><td>NULL</td><td>NULL</td><td>NULL</td><td>NULL</td><td>NULL</td><td>NULL</td><td>NULL</td><td>NULL</td><td>NULL</td><td>NULL</td><td>NULL</td><td>NULL</td><td>NULL</td><td>NULL</td><td>8.33</td><td>38928341</td><td>54.422</td><td>18.6</td><td>2.581</td><td>1.337</td><td>1803.987</td><td>NULL</td><td>597.029</td><td>9.59</td><td>NULL</td><td>NULL</td><td>37.746</td><td>0.5</td><td>64.83</td><td>0.511</td></tr>",
                            "<tr><td>AFG</td><td>Asia</td><td>Afghanistan</td><td>2020-02-25 00:00:00.000</td><td>1</td><td>0</td><td>NULL</td><td>NULL</td><td>NULL</td><td>NULL</td><td>0.026</td><td>0</td><td>NULL</td><td>NULL</td><td>NULL</td><td>NULL</td><td>NULL</td><td>NULL</td><td>NULL</td><td>NULL</td><td>NULL</td><td>NULL</td><td>NULL</td><td>NULL</td><td>NULL</td><td>NULL</td><td>NULL</td><td>NULL</td><td>NULL</td><td>NULL</td><td>NULL</td><td>NULL</td><td>NULL</td><td>NULL</td><td>NULL</td><td>NULL</td><td>NULL</td><td>NULL</td><td>NULL</td><td>NULL</td><td>NULL</td><td>NULL</td><td>NULL</td><td>8.33</td><td>38928341</td><td>54.422</td><td>18.6</td><td>2.581</td><td>1.337</td><td>1803.987</td><td>NULL</td><td>597.029</td><td>9.59</td><td>NULL</td><td>NULL</td><td>37.746</td><td>0.5</td><td>64.83</td><td>0.511</td></tr>",
                            "<tr><td>AFG</td><td>Asia</td><td>Afghanistan</td><td>2020-02-26 00:00:00.000</td><td>1</td><td>0</td><td>NULL</td><td>NULL</td><td>NULL</td><td>NULL</td><td>0.026</td><td>0</td><td>NULL</td><td>NULL</td><td>NULL</td><td>NULL</td><td>NULL</td><td>NULL</td><td>NULL</td><td>NULL</td><td>NULL</td><td>NULL</td><td>NULL</td><td>NULL</td><td>NULL</td><td>NULL</td><td>NULL</td><td>NULL</td><td>NULL</td><td>NULL</td><td>NULL</td><td>NULL</td><td>NULL</td><td>NULL</td><td>NULL</td><td>NULL</td><td>NULL</td><td>NULL</td><td>NULL</td><td>NULL</td><td>NULL</td><td>NULL</td><td>NULL</td><td>8.33</td><td>38928341</td><td>54.422</td><td>18.6</td><td>2.581</td><td>1.337</td><td>1803.987</td><td>NULL</td><td>597.029</td><td>9.59</td><td>NULL</td><td>NULL</td><td>37.746</td><td>0.5</td><td>64.83</td><td>0.511</td></tr>",
                            "<tr><td>AFG</td><td>Asia</td><td>Afghanistan</td><td>2020-02-27 00:00:00.000</td><td>1</td><td>0</td><td>NULL</td><td>NULL</td><td>NULL</td><td>NULL</td><td>0.026</td><td>0</td><td>NULL</td><td>NULL</td><td>NULL</td><td>NULL</td><td>NULL</td><td>NULL</td><td>NULL</td><td>NULL</td><td>NULL</td><td>NULL</td><td>NULL</td><td>NULL</td><td>NULL</td><td>NULL</td><td>NULL</td><td>NULL</td><td>NULL</td><td>NULL</td><td>NULL</td><td>NULL</td><td>NULL</td><td>NULL</td><td>NULL</td><td>NULL</td><td>NULL</td><td>NULL</td><td>NULL</td><td>NULL</td><td>NULL</td><td>NULL</td><td>NULL</td><td>8.33</td><td>38928341</td><td>54.422</td><td>18.6</td><td>2.581</td><td>1.337</td><td>1803.987</td><td>NULL</td><td>597.029</td><td>9.59</td><td>NULL</td><td>NULL</td><td>37.746</td><td>0.5</td><td>64.83</td><td>0.511</td></tr>",
                            "<tr><td>AFG</td><td>Asia</td><td>Afghanistan</td><td>2020-02-28 00:00:00.000</td><td>1</td><td>0</td><td>NULL</td><td>NULL</td><td>NULL</td><td>NULL</td><td>0.026</td><td>0</td><td>NULL</td><td>NULL</td><td>NULL</td><td>NULL</td><td>NULL</td><td>NULL</td><td>NULL</td><td>NULL</td><td>NULL</td><td>NULL</td><td>NULL</td><td>NULL</td><td>NULL</td><td>NULL</td><td>NULL</td><td>NULL</td><td>NULL</td><td>NULL</td><td>NULL</td><td>NULL</td><td>NULL</td><td>NULL</td><td>NULL</td><td>NULL</td><td>NULL</td><td>NULL</td><td>NULL</td><td>NULL</td><td>NULL</td><td>NULL</td><td>NULL</td><td>8.33</td><td>38928341</td><td>54.422</td><td>18.6</td><td>2.581</td><td>1.337</td><td>1803.987</td><td>NULL</td><td>597.029</td><td>9.59</td><td>NULL</td><td>NULL</td><td>37.746</td><td>0.5</td><td>64.83</td><td>0.511</td></tr>",
                            "<tr><td>AFG</td><td>Asia</td><td>Afghanistan</td><td>2020-02-29 00:00:00.000</td><td>1</td><td>0</td><td>0.143</td><td>NULL</td><td>NULL</td><td>0</td><td>0.026</td><td>0</td><td>0.004</td><td>NULL</td><td>NULL</td><td>0</td><td>NULL</td><td>NULL</td><td>NULL</td><td>NULL</td><td>NULL</td><td>NULL</td><td>NULL</td><td>NULL</td><td>NULL</td><td>NULL</td><td>NULL</td><td>NULL</td><td>NULL</td><td>NULL</td><td>NULL</td><td>NULL</td><td>NULL</td><td>NULL</td><td>NULL</td><td>NULL</td><td>NULL</td><td>NULL</td><td>NULL</td><td>NULL</td><td>NULL</td><td>NULL</td><td>NULL</td><td>8.33</td><td>38928341</td><td>54.422</td><td>18.6</td><td>2.581</td><td>1.337</td><td>1803.987</td><td>NULL</td><td>597.029</td><td>9.59</td><td>NULL</td><td>NULL</td><td>37.746</td><td>0.5</td><td>64.83</td><td>0.511</td></tr>",
                            "<tr><td>AFG</td><td>Asia</td><td>Afghanistan</td><td>2020-03-01 00:00:00.000</td><td>1</td><td>0</td><td>0.143</td><td>NULL</td><td>NULL</td><td>0</td><td>0.026</td><td>0</td><td>0.004</td><td>NULL</td><td>NULL</td><td>0</td><td>NULL</td><td>NULL</td><td>NULL</td><td>NULL</td><td>NULL</td><td>NULL</td><td>NULL</td><td>NULL</td><td>NULL</td><td>NULL</td><td>NULL</td><td>NULL</td><td>NULL</td><td>NULL</td><td>NULL</td><td>NULL</td><td>NULL</td><td>NULL</td><td>NULL</td><td>NULL</td><td>NULL</td><td>NULL</td><td>NULL</td><td>NULL</td><td>NULL</td><td>NULL</td><td>NULL</td><td>27.78</td><td>38928341</td><td>54.422</td><td>18.6</td><td>2.581</td><td>1.337</td><td>1803.987</td><td>NULL</td><td>597.029</td><td>9.59</td><td>NULL</td><td>NULL</td><td>37.746</td><td>0.5</td><td>64.83</td><td>0.511</td></tr>",
                            "<tr><td>AFG</td><td>Asia</td><td>Afghanistan</td><td>2020-03-02 00:00:00.000</td><td>1</td><td>0</td><td>0</td><td>NULL</td><td>NULL</td><td>0</td><td>0.026</td><td>0</td><td>0</td><td>NULL</td><td>NULL</td><td>0</td><td>NULL</td><td>NULL</td><td>NULL</td><td>NULL</td><td>NULL</td><td>NULL</td><td>NULL</td><td>NULL</td><td>NULL</td><td>NULL</td><td>NULL</td><td>NULL</td><td>NULL</td><td>NULL</td><td>NULL</td><td>NULL</td><td>NULL</td><td>NULL</td><td>NULL</td><td>NULL</td><td>NULL</td><td>NULL</td><td>NULL</td><td>NULL</td><td>NULL</td><td>NULL</td><td>NULL</td><td>27.78</td><td>38928341</td><td>54.422</td><td>18.6</td><td>2.581</td><td>1.337</td><td>1803.987</td><td>NULL</td><td>597.029</td><td>9.59</td><td>NULL</td><td>NULL</td><td>37.746</td><td>0.5</td><td>64.83</td><td>0.511</td></tr>",
                            "<tr><td>AFG</td><td>Asia</td><td>Afghanistan</td><td>2020-03-03 00:00:00.000</td><td>2</td><td>1</td><td>0.143</td><td>NULL</td><td>NULL</td><td>0</td><td>0.051</td><td>0.026</td><td>0.004</td><td>NULL</td><td>NULL</td><td>0</td><td>NULL</td><td>NULL</td><td>NULL</td><td>NULL</td><td>NULL</td><td>NULL</td><td>NULL</td><td>NULL</td><td>NULL</td><td>NULL</td><td>NULL</td><td>NULL</td><td>NULL</td><td>NULL</td><td>NULL</td><td>NULL</td><td>NULL</td><td>NULL</td><td>NULL</td><td>NULL</td><td>NULL</td><td>NULL</td><td>NULL</td><td>NULL</td><td>NULL</td><td>NULL</td><td>NULL</td><td>27.78</td><td>38928341</td><td>54.422</td><td>18.6</td><td>2.581</td><td>1.337</td><td>1803.987</td><td>NULL</td><td>597.029</td><td>9.59</td><td>NULL</td><td>NULL</td><td>37.746</td><td>0.5</td><td>64.83</td><td>0.511</td></tr>",
                            "<tr><td>AFG</td><td>Asia</td><td>Afghanistan</td><td>2020-03-04 00:00:00.000</td><td>4</td><td>2</td><td>0.429</td><td>NULL</td><td>NULL</td><td>0</td><td>0.103</td><td>0.051</td><td>0.011</td><td>NULL</td><td>NULL</td><td>0</td><td>NULL</td><td>NULL</td><td>NULL</td><td>NULL</td><td>NULL</td><td>NULL</td><td>NULL</td><td>NULL</td><td>NULL</td><td>NULL</td><td>NULL</td><td>NULL</td><td>NULL</td><td>NULL</td><td>NULL</td><td>NULL</td><td>NULL</td><td>NULL</td><td>NULL</td><td>NULL</td><td>NULL</td><td>NULL</td><td>NULL</td><td>NULL</td><td>NULL</td><td>NULL</td><td>NULL</td><td>27.78</td><td>38928341</td><td>54.422</td><td>18.6</td><td>2.581</td><td>1.337</td><td>1803.987</td><td>NULL</td><td>597.029</td><td>9.59</td><td>NULL</td><td>NULL</td><td>37.746</td><td>0.5</td><td>64.83</td><td>0.511</td></tr>",
                            "<tr><td>AFG</td><td>Asia</td><td>Afghanistan</td><td>2020-03-05 00:00:00.000</td><td>4</td><td>0</td><td>0.429</td><td>NULL</td><td>NULL</td><td>0</td><td>0.103</td><td>0</td><td>0.011</td><td>NULL</td><td>NULL</td><td>0</td><td>NULL</td><td>NULL</td><td>NULL</td><td>NULL</td><td>NULL</td><td>NULL</td><td>NULL</td><td>NULL</td><td>NULL</td><td>NULL</td><td>NULL</td><td>NULL</td><td>NULL</td><td>NULL</td><td>NULL</td><td>NULL</td><td>NULL</td><td>NULL</td><td>NULL</td><td>NULL</td><td>NULL</td><td>NULL</td><td>NULL</td><td>NULL</td><td>NULL</td><td>NULL</td><td>NULL</td><td>27.78</td><td>38928341</td><td>54.422</td><td>18.6</td><td>2.581</td><td>1.337</td><td>1803.987</td><td>NULL</td><td>597.029</td><td>9.59</td><td>NULL</td><td>NULL</td><td>37.746</td><td>0.5</td><td>64.83</td><td>0.511</td></tr>",
                            "<tr><td>AFG</td><td>Asia</td><td>Afghanistan</td><td>2020-03-06 00:00:00.000</td><td>4</td><td>0</td><td>0.429</td><td>NULL</td><td>NULL</td><td>0</td><td>0.103</td><td>0</td><td>0.011</td><td>NULL</td><td>NULL</td><td>0</td><td>NULL</td><td>NULL</td><td>NULL</td><td>NULL</td><td>NULL</td><td>NULL</td><td>NULL</td><td>NULL</td><td>NULL</td><td>NULL</td><td>NULL</td><td>NULL</td><td>NULL</td><td>NULL</td><td>NULL</td><td>NULL</td><td>NULL</td><td>NULL</td><td>NULL</td><td>NULL</td><td>NULL</td><td>NULL</td><td>NULL</td><td>NULL</td><td>NULL</td><td>NULL</td><td>NULL</td><td>27.78</td><td>38928341</td><td>54.422</td><td>18.6</td><td>2.581</td><td>1.337</td><td>1803.987</td><td>NULL</td><td>597.029</td><td>9.59</td><td>NULL</td><td>NULL</td><td>37.746</td><td>0.5</td><td>64.83</td><td>0.511</td></tr>",
                            "<tr><td>AFG</td><td>Asia</td><td>Afghanistan</td><td>2020-03-07 00:00:00.000</td><td>4</td><td>0</td><td>0.429</td><td>NULL</td><td>NULL</td><td>0</td><td>0.103</td><td>0</td><td>0.011</td><td>NULL</td><td>NULL</td><td>0</td><td>NULL</td><td>NULL</td><td>NULL</td><td>NULL</td><td>NULL</td><td>NULL</td><td>NULL</td><td>NULL</td><td>NULL</td><td>NULL</td><td>NULL</td><td>NULL</td><td>NULL</td><td>NULL</td><td>NULL</td><td>NULL</td><td>NULL</td><td>NULL</td><td>NULL</td><td>NULL</td><td>NULL</td><td>NULL</td><td>NULL</td><td>NULL</td><td>NULL</td><td>NULL</td><td>NULL</td><td>27.78</td><td>38928341</td><td>54.422</td><td>18.6</td><td>2.581</td><td>1.337</td><td>1803.987</td><td>NULL</td><td>597.029</td><td>9.59</td><td>NULL</td><td>NULL</td><td>37.746</td><td>0.5</td><td>64.83</td><td>0.511</td></tr>",
                            "<tr><td>AFG</td><td>Asia</td><td>Afghanistan</td><td>2020-03-08 00:00:00.000</td><td>5</td><td>1</td><td>0.571</td><td>NULL</td><td>NULL</td><td>0</td><td>0.128</td><td>0.026</td><td>0.015</td><td>NULL</td><td>NULL</td><td>0</td><td>NULL</td><td>NULL</td><td>NULL</td><td>NULL</td><td>NULL</td><td>NULL</td><td>NULL</td><td>NULL</td><td>NULL</td><td>NULL</td><td>NULL</td><td>NULL</td><td>NULL</td><td>NULL</td><td>NULL</td><td>NULL</td><td>NULL</td><td>NULL</td><td>NULL</td><td>NULL</td><td>NULL</td><td>NULL</td><td>NULL</td><td>NULL</td><td>NULL</td><td>NULL</td><td>NULL</td><td>27.78</td><td>38928341</td><td>54.422</td><td>18.6</td><td>2.581</td><td>1.337</td><td>1803.987</td><td>NULL</td><td>597.029</td><td>9.59</td><td>NULL</td><td>NULL</td><td>37.746</td><td>0.5</td><td>64.83</td><td>0.511</td></tr>",
                            "<tr><td>AFG</td><td>Asia</td><td>Afghanistan</td><td>2020-03-09 00:00:00.000</td><td>7</td><td>2</td><td>0.857</td><td>NULL</td><td>NULL</td><td>0</td><td>0.18</td><td>0.051</td><td>0.022</td><td>NULL</td><td>NULL</td><td>0</td><td>NULL</td><td>NULL</td><td>NULL</td><td>NULL</td><td>NULL</td><td>NULL</td><td>NULL</td><td>NULL</td><td>NULL</td><td>NULL</td><td>NULL</td><td>NULL</td><td>NULL</td><td>NULL</td><td>NULL</td><td>NULL</td><td>NULL</td><td>NULL</td><td>NULL</td><td>NULL</td><td>NULL</td><td>NULL</td><td>NULL</td><td>NULL</td><td>NULL</td><td>NULL</td><td>NULL</td><td>27.78</td><td>38928341</td><td>54.422</td><td>18.6</td><td>2.581</td><td>1.337</td><td>1803.987</td><td>NULL</td><td>597.029</td><td>9.59</td><td>NULL</td><td>NULL</td><td>37.746</td><td>0.5</td><td>64.83</td><td>0.511</td></tr>",
                            "<tr><td>AFG</td><td>Asia</td><td>Afghanistan</td><td>2020-03-10 00:00:00.000</td><td>8</td><td>1</td><td>0.857</td><td>NULL</td><td>NULL</td><td>0</td><td>0.206</td><td>0.026</td><td>0.022</td><td>NULL</td><td>NULL</td><td>0</td><td>NULL</td><td>NULL</td><td>NULL</td><td>NULL</td><td>NULL</td><td>NULL</td><td>NULL</td><td>NULL</td><td>NULL</td><td>NULL</td><td>NULL</td><td>NULL</td><td>NULL</td><td>NULL</td><td>NULL</td><td>NULL</td><td>NULL</td><td>NULL</td><td>NULL</td><td>NULL</td><td>NULL</td><td>NULL</td><td>NULL</td><td>NULL</td><td>NULL</td><td>NULL</td><td>NULL</td><td>27.78</td><td>38928341</td><td>54.422</td><td>18.6</td><td>2.581</td><td>1.337</td><td>1803.987</td><td>NULL</td><td>597.029</td><td>9.59</td><td>NULL</td><td>NULL</td><td>37.746</td><td>0.5</td><td>64.83</td><td>0.511</td></tr>",
                            "<tr><td>AFG</td><td>Asia</td><td>Afghanistan</td><td>2020-03-11 00:00:00.000</td><td>11</td><td>3</td><td>1</td><td>NULL</td><td>NULL</td><td>0</td><td>0.283</td><td>0.077</td><td>0.026</td><td>NULL</td><td>NULL</td><td>0</td><td>NULL</td><td>NULL</td><td>NULL</td><td>NULL</td><td>NULL</td><td>NULL</td><td>NULL</td><td>NULL</td><td>NULL</td><td>NULL</td><td>NULL</td><td>NULL</td><td>NULL</td><td>NULL</td><td>NULL</td><td>NULL</td><td>NULL</td><td>NULL</td><td>NULL</td><td>NULL</td><td>NULL</td><td>NULL</td><td>NULL</td><td>NULL</td><td>NULL</td><td>NULL</td><td>NULL</td><td>27.78</td><td>38928341</td><td>54.422</td><td>18.6</td><td>2.581</td><td>1.337</td><td>1803.987</td><td>NULL</td><td>597.029</td><td>9.59</td><td>NULL</td><td>NULL</td><td>37.746</td><td>0.5</td><td>64.83</td><td>0.511</td></tr>",
                            "<tr><td>AFG</td><td>Asia</td><td>Afghanistan</td><td>2020-03-12 00:00:00.000</td><td>12</td><td>1</td><td>1.143</td><td>NULL</td><td>NULL</td><td>0</td><td>0.308</td><td>0.026</td><td>0.029</td><td>NULL</td><td>NULL</td><td>0</td><td>NULL</td><td>NULL</td><td>NULL</td><td>NULL</td><td>NULL</td><td>NULL</td><td>NULL</td><td>NULL</td><td>NULL</td><td>NULL</td><td>NULL</td><td>NULL</td><td>NULL</td><td>NULL</td><td>NULL</td><td>NULL</td><td>NULL</td><td>NULL</td><td>NULL</td><td>NULL</td><td>NULL</td><td>NULL</td><td>NULL</td><td>NULL</td><td>NULL</td><td>NULL</td><td>NULL</td><td>27.78</td><td>38928341</td><td>54.422</td><td>18.6</td><td>2.581</td><td>1.337</td><td>1803.987</td><td>NULL</td><td>597.029</td><td>9.59</td><td>NULL</td><td>NULL</td><td>37.746</td><td>0.5</td><td>64.83</td><td>0.511</td></tr>",
                            "<tr><td>AFG</td><td>Asia</td><td>Afghanistan</td><td>2020-03-13 00:00:00.000</td><td>13</td><td>1</td><td>1.286</td><td>NULL</td><td>NULL</td><td>0</td><td>0.334</td><td>0.026</td><td>0.033</td><td>NULL</td><td>NULL</td><td>0</td><td>NULL</td><td>NULL</td><td>NULL</td><td>NULL</td><td>NULL</td><td>NULL</td><td>NULL</td><td>NULL</td><td>NULL</td><td>NULL</td><td>NULL</td><td>NULL</td><td>NULL</td><td>NULL</td><td>NULL</td><td>NULL</td><td>NULL</td><td>NULL</td><td>NULL</td><td>NULL</td><td>NULL</td><td>NULL</td><td>NULL</td><td>NULL</td><td>NULL</td><td>NULL</td><td>NULL</td><td>27.78</td><td>38928341</td><td>54.422</td><td>18.6</td><td>2.581</td><td>1.337</td><td>1803.987</td><td>NULL</td><td>597.029</td><td>9.59</td><td>NULL</td><td>NULL</td><td>37.746</td><td>0.5</td><td>64.83</td><td>0.511</td></tr>",
                            "<tr><td>AFG</td><td>Asia</td><td>Afghanistan</td><td>2020-03-14 00:00:00.000</td><td>15</td><td>2</td><td>1.571</td><td>NULL</td><td>NULL</td><td>0</td><td>0.385</td><td>0.051</td><td>0.04</td><td>NULL</td><td>NULL</td><td>0</td><td>NULL</td><td>NULL</td><td>NULL</td><td>NULL</td><td>NULL</td><td>NULL</td><td>NULL</td><td>NULL</td><td>NULL</td><td>NULL</td><td>NULL</td><td>NULL</td><td>NULL</td><td>NULL</td><td>NULL</td><td>NULL</td><td>NULL</td><td>NULL</td><td>NULL</td><td>NULL</td><td>NULL</td><td>NULL</td><td>NULL</td><td>NULL</td><td>NULL</td><td>NULL</td><td>NULL</td><td>38.89</td><td>38928341</td><td>54.422</td><td>18.6</td><td>2.581</td><td>1.337</td><td>1803.987</td><td>NULL</td><td>597.029</td><td>9.59</td><td>NULL</td><td>NULL</td><td>37.746</td><td>0.5</td><td>64.83</td><td>0.511</td></tr>",
                            "</table>"
                        ]
                    }
                }
            ],
            "execution_count": 1
        },
        {
            "cell_type": "code",
            "source": [
                "Select top 10 Location, date, total_cases, new_cases, total_deaths, population\r\n",
                "From CovidDeaths\r\n",
                "order by 1, 2"
            ],
            "metadata": {
                "azdata_cell_guid": "1b54b59a-c1b3-4812-8a3e-b8afdb448e0f",
                "language": "sql"
            },
            "outputs": [
                {
                    "output_type": "display_data",
                    "data": {
                        "text/html": "(10 rows affected)"
                    },
                    "metadata": {}
                },
                {
                    "output_type": "display_data",
                    "data": {
                        "text/html": "Total execution time: 00:00:00.032"
                    },
                    "metadata": {}
                },
                {
                    "output_type": "execute_result",
                    "metadata": {},
                    "execution_count": 2,
                    "data": {
                        "application/vnd.dataresource+json": {
                            "schema": {
                                "fields": [
                                    {
                                        "name": "Location"
                                    },
                                    {
                                        "name": "date"
                                    },
                                    {
                                        "name": "total_cases"
                                    },
                                    {
                                        "name": "new_cases"
                                    },
                                    {
                                        "name": "total_deaths"
                                    },
                                    {
                                        "name": "population"
                                    }
                                ]
                            },
                            "data": [
                                {
                                    "0": "Afghanistan",
                                    "1": "2020-02-24 00:00:00.000",
                                    "2": "1",
                                    "3": "1",
                                    "4": "NULL",
                                    "5": "38928341"
                                },
                                {
                                    "0": "Afghanistan",
                                    "1": "2020-02-25 00:00:00.000",
                                    "2": "1",
                                    "3": "0",
                                    "4": "NULL",
                                    "5": "38928341"
                                },
                                {
                                    "0": "Afghanistan",
                                    "1": "2020-02-26 00:00:00.000",
                                    "2": "1",
                                    "3": "0",
                                    "4": "NULL",
                                    "5": "38928341"
                                },
                                {
                                    "0": "Afghanistan",
                                    "1": "2020-02-27 00:00:00.000",
                                    "2": "1",
                                    "3": "0",
                                    "4": "NULL",
                                    "5": "38928341"
                                },
                                {
                                    "0": "Afghanistan",
                                    "1": "2020-02-28 00:00:00.000",
                                    "2": "1",
                                    "3": "0",
                                    "4": "NULL",
                                    "5": "38928341"
                                },
                                {
                                    "0": "Afghanistan",
                                    "1": "2020-02-29 00:00:00.000",
                                    "2": "1",
                                    "3": "0",
                                    "4": "NULL",
                                    "5": "38928341"
                                },
                                {
                                    "0": "Afghanistan",
                                    "1": "2020-03-01 00:00:00.000",
                                    "2": "1",
                                    "3": "0",
                                    "4": "NULL",
                                    "5": "38928341"
                                },
                                {
                                    "0": "Afghanistan",
                                    "1": "2020-03-02 00:00:00.000",
                                    "2": "1",
                                    "3": "0",
                                    "4": "NULL",
                                    "5": "38928341"
                                },
                                {
                                    "0": "Afghanistan",
                                    "1": "2020-03-03 00:00:00.000",
                                    "2": "2",
                                    "3": "1",
                                    "4": "NULL",
                                    "5": "38928341"
                                },
                                {
                                    "0": "Afghanistan",
                                    "1": "2020-03-04 00:00:00.000",
                                    "2": "4",
                                    "3": "2",
                                    "4": "NULL",
                                    "5": "38928341"
                                }
                            ]
                        },
                        "text/html": [
                            "<table>",
                            "<tr><th>Location</th><th>date</th><th>total_cases</th><th>new_cases</th><th>total_deaths</th><th>population</th></tr>",
                            "<tr><td>Afghanistan</td><td>2020-02-24 00:00:00.000</td><td>1</td><td>1</td><td>NULL</td><td>38928341</td></tr>",
                            "<tr><td>Afghanistan</td><td>2020-02-25 00:00:00.000</td><td>1</td><td>0</td><td>NULL</td><td>38928341</td></tr>",
                            "<tr><td>Afghanistan</td><td>2020-02-26 00:00:00.000</td><td>1</td><td>0</td><td>NULL</td><td>38928341</td></tr>",
                            "<tr><td>Afghanistan</td><td>2020-02-27 00:00:00.000</td><td>1</td><td>0</td><td>NULL</td><td>38928341</td></tr>",
                            "<tr><td>Afghanistan</td><td>2020-02-28 00:00:00.000</td><td>1</td><td>0</td><td>NULL</td><td>38928341</td></tr>",
                            "<tr><td>Afghanistan</td><td>2020-02-29 00:00:00.000</td><td>1</td><td>0</td><td>NULL</td><td>38928341</td></tr>",
                            "<tr><td>Afghanistan</td><td>2020-03-01 00:00:00.000</td><td>1</td><td>0</td><td>NULL</td><td>38928341</td></tr>",
                            "<tr><td>Afghanistan</td><td>2020-03-02 00:00:00.000</td><td>1</td><td>0</td><td>NULL</td><td>38928341</td></tr>",
                            "<tr><td>Afghanistan</td><td>2020-03-03 00:00:00.000</td><td>2</td><td>1</td><td>NULL</td><td>38928341</td></tr>",
                            "<tr><td>Afghanistan</td><td>2020-03-04 00:00:00.000</td><td>4</td><td>2</td><td>NULL</td><td>38928341</td></tr>",
                            "</table>"
                        ]
                    }
                }
            ],
            "execution_count": 2
        },
        {
            "cell_type": "code",
            "source": [
                "-- calculate death percentage in Canada\r\n",
                "Select top 10 Location, date, total_cases, total_deaths, (total_deaths/total_cases)*100 as DeathPercentage\r\n",
                "From CovidDeaths\r\n",
                "Where Location = 'Canada'\r\n",
                "order by 1, 2"
            ],
            "metadata": {
                "azdata_cell_guid": "6cc43ea5-d9a1-4c19-bad3-ab0d020d9315",
                "language": "sql"
            },
            "outputs": [
                {
                    "output_type": "display_data",
                    "data": {
                        "text/html": "(10 rows affected)"
                    },
                    "metadata": {}
                },
                {
                    "output_type": "display_data",
                    "data": {
                        "text/html": "Total execution time: 00:00:00.021"
                    },
                    "metadata": {}
                },
                {
                    "output_type": "execute_result",
                    "metadata": {},
                    "execution_count": 3,
                    "data": {
                        "application/vnd.dataresource+json": {
                            "schema": {
                                "fields": [
                                    {
                                        "name": "Location"
                                    },
                                    {
                                        "name": "date"
                                    },
                                    {
                                        "name": "total_cases"
                                    },
                                    {
                                        "name": "total_deaths"
                                    },
                                    {
                                        "name": "DeathPercentage"
                                    }
                                ]
                            },
                            "data": [
                                {
                                    "0": "Canada",
                                    "1": "2020-01-26 00:00:00.000",
                                    "2": "1",
                                    "3": "NULL",
                                    "4": "NULL"
                                },
                                {
                                    "0": "Canada",
                                    "1": "2020-01-27 00:00:00.000",
                                    "2": "1",
                                    "3": "NULL",
                                    "4": "NULL"
                                },
                                {
                                    "0": "Canada",
                                    "1": "2020-01-28 00:00:00.000",
                                    "2": "2",
                                    "3": "NULL",
                                    "4": "NULL"
                                },
                                {
                                    "0": "Canada",
                                    "1": "2020-01-29 00:00:00.000",
                                    "2": "2",
                                    "3": "NULL",
                                    "4": "NULL"
                                },
                                {
                                    "0": "Canada",
                                    "1": "2020-01-30 00:00:00.000",
                                    "2": "2",
                                    "3": "NULL",
                                    "4": "NULL"
                                },
                                {
                                    "0": "Canada",
                                    "1": "2020-01-31 00:00:00.000",
                                    "2": "4",
                                    "3": "NULL",
                                    "4": "NULL"
                                },
                                {
                                    "0": "Canada",
                                    "1": "2020-02-01 00:00:00.000",
                                    "2": "4",
                                    "3": "NULL",
                                    "4": "NULL"
                                },
                                {
                                    "0": "Canada",
                                    "1": "2020-02-02 00:00:00.000",
                                    "2": "4",
                                    "3": "NULL",
                                    "4": "NULL"
                                },
                                {
                                    "0": "Canada",
                                    "1": "2020-02-03 00:00:00.000",
                                    "2": "4",
                                    "3": "NULL",
                                    "4": "NULL"
                                },
                                {
                                    "0": "Canada",
                                    "1": "2020-02-04 00:00:00.000",
                                    "2": "4",
                                    "3": "NULL",
                                    "4": "NULL"
                                }
                            ]
                        },
                        "text/html": [
                            "<table>",
                            "<tr><th>Location</th><th>date</th><th>total_cases</th><th>total_deaths</th><th>DeathPercentage</th></tr>",
                            "<tr><td>Canada</td><td>2020-01-26 00:00:00.000</td><td>1</td><td>NULL</td><td>NULL</td></tr>",
                            "<tr><td>Canada</td><td>2020-01-27 00:00:00.000</td><td>1</td><td>NULL</td><td>NULL</td></tr>",
                            "<tr><td>Canada</td><td>2020-01-28 00:00:00.000</td><td>2</td><td>NULL</td><td>NULL</td></tr>",
                            "<tr><td>Canada</td><td>2020-01-29 00:00:00.000</td><td>2</td><td>NULL</td><td>NULL</td></tr>",
                            "<tr><td>Canada</td><td>2020-01-30 00:00:00.000</td><td>2</td><td>NULL</td><td>NULL</td></tr>",
                            "<tr><td>Canada</td><td>2020-01-31 00:00:00.000</td><td>4</td><td>NULL</td><td>NULL</td></tr>",
                            "<tr><td>Canada</td><td>2020-02-01 00:00:00.000</td><td>4</td><td>NULL</td><td>NULL</td></tr>",
                            "<tr><td>Canada</td><td>2020-02-02 00:00:00.000</td><td>4</td><td>NULL</td><td>NULL</td></tr>",
                            "<tr><td>Canada</td><td>2020-02-03 00:00:00.000</td><td>4</td><td>NULL</td><td>NULL</td></tr>",
                            "<tr><td>Canada</td><td>2020-02-04 00:00:00.000</td><td>4</td><td>NULL</td><td>NULL</td></tr>",
                            "</table>"
                        ]
                    }
                }
            ],
            "execution_count": 3
        },
        {
            "cell_type": "code",
            "source": [
                "-- calculate invection percentage in Canada\r\n",
                "Select top 10 Location, date, population, total_cases,  (total_cases/population)*100 as InfectionPercentage\r\n",
                "From CovidDeaths\r\n",
                "Where Location = 'Canada'\r\n",
                "order by 1, 2"
            ],
            "metadata": {
                "azdata_cell_guid": "d8744cc2-af2c-4466-9e5a-505a244d7e12",
                "language": "sql"
            },
            "outputs": [
                {
                    "output_type": "display_data",
                    "data": {
                        "text/html": "(10 rows affected)"
                    },
                    "metadata": {}
                },
                {
                    "output_type": "display_data",
                    "data": {
                        "text/html": "Total execution time: 00:00:00.014"
                    },
                    "metadata": {}
                },
                {
                    "output_type": "execute_result",
                    "metadata": {},
                    "execution_count": 4,
                    "data": {
                        "application/vnd.dataresource+json": {
                            "schema": {
                                "fields": [
                                    {
                                        "name": "Location"
                                    },
                                    {
                                        "name": "date"
                                    },
                                    {
                                        "name": "population"
                                    },
                                    {
                                        "name": "total_cases"
                                    },
                                    {
                                        "name": "InfectionPercentage"
                                    }
                                ]
                            },
                            "data": [
                                {
                                    "0": "Canada",
                                    "1": "2020-01-26 00:00:00.000",
                                    "2": "37742157",
                                    "3": "1",
                                    "4": "2.649557098710601E-06"
                                },
                                {
                                    "0": "Canada",
                                    "1": "2020-01-27 00:00:00.000",
                                    "2": "37742157",
                                    "3": "1",
                                    "4": "2.649557098710601E-06"
                                },
                                {
                                    "0": "Canada",
                                    "1": "2020-01-28 00:00:00.000",
                                    "2": "37742157",
                                    "3": "2",
                                    "4": "5.299114197421202E-06"
                                },
                                {
                                    "0": "Canada",
                                    "1": "2020-01-29 00:00:00.000",
                                    "2": "37742157",
                                    "3": "2",
                                    "4": "5.299114197421202E-06"
                                },
                                {
                                    "0": "Canada",
                                    "1": "2020-01-30 00:00:00.000",
                                    "2": "37742157",
                                    "3": "2",
                                    "4": "5.299114197421202E-06"
                                },
                                {
                                    "0": "Canada",
                                    "1": "2020-01-31 00:00:00.000",
                                    "2": "37742157",
                                    "3": "4",
                                    "4": "1.0598228394842404E-05"
                                },
                                {
                                    "0": "Canada",
                                    "1": "2020-02-01 00:00:00.000",
                                    "2": "37742157",
                                    "3": "4",
                                    "4": "1.0598228394842404E-05"
                                },
                                {
                                    "0": "Canada",
                                    "1": "2020-02-02 00:00:00.000",
                                    "2": "37742157",
                                    "3": "4",
                                    "4": "1.0598228394842404E-05"
                                },
                                {
                                    "0": "Canada",
                                    "1": "2020-02-03 00:00:00.000",
                                    "2": "37742157",
                                    "3": "4",
                                    "4": "1.0598228394842404E-05"
                                },
                                {
                                    "0": "Canada",
                                    "1": "2020-02-04 00:00:00.000",
                                    "2": "37742157",
                                    "3": "4",
                                    "4": "1.0598228394842404E-05"
                                }
                            ]
                        },
                        "text/html": [
                            "<table>",
                            "<tr><th>Location</th><th>date</th><th>population</th><th>total_cases</th><th>InfectionPercentage</th></tr>",
                            "<tr><td>Canada</td><td>2020-01-26 00:00:00.000</td><td>37742157</td><td>1</td><td>2.649557098710601E-06</td></tr>",
                            "<tr><td>Canada</td><td>2020-01-27 00:00:00.000</td><td>37742157</td><td>1</td><td>2.649557098710601E-06</td></tr>",
                            "<tr><td>Canada</td><td>2020-01-28 00:00:00.000</td><td>37742157</td><td>2</td><td>5.299114197421202E-06</td></tr>",
                            "<tr><td>Canada</td><td>2020-01-29 00:00:00.000</td><td>37742157</td><td>2</td><td>5.299114197421202E-06</td></tr>",
                            "<tr><td>Canada</td><td>2020-01-30 00:00:00.000</td><td>37742157</td><td>2</td><td>5.299114197421202E-06</td></tr>",
                            "<tr><td>Canada</td><td>2020-01-31 00:00:00.000</td><td>37742157</td><td>4</td><td>1.0598228394842404E-05</td></tr>",
                            "<tr><td>Canada</td><td>2020-02-01 00:00:00.000</td><td>37742157</td><td>4</td><td>1.0598228394842404E-05</td></tr>",
                            "<tr><td>Canada</td><td>2020-02-02 00:00:00.000</td><td>37742157</td><td>4</td><td>1.0598228394842404E-05</td></tr>",
                            "<tr><td>Canada</td><td>2020-02-03 00:00:00.000</td><td>37742157</td><td>4</td><td>1.0598228394842404E-05</td></tr>",
                            "<tr><td>Canada</td><td>2020-02-04 00:00:00.000</td><td>37742157</td><td>4</td><td>1.0598228394842404E-05</td></tr>",
                            "</table>"
                        ]
                    }
                }
            ],
            "execution_count": 4
        },
        {
            "cell_type": "code",
            "source": [
                "-- check infection stats around the world\r\n",
                "Select top 10 Location, population, MAX(total_cases) as HighestInfectionCount,  MAX((total_cases/population))*100 as InfectionPercentage\r\n",
                "From CovidDeaths\r\n",
                "Group by Location, population\r\n",
                "order by InfectionPercentage desc"
            ],
            "metadata": {
                "language": "sql",
                "azdata_cell_guid": "a759cec2-d623-4dec-8a87-fe8774e0b0ce"
            },
            "outputs": [
                {
                    "output_type": "display_data",
                    "data": {
                        "text/html": "Warning: Null value is eliminated by an aggregate or other SET operation."
                    },
                    "metadata": {}
                },
                {
                    "output_type": "display_data",
                    "data": {
                        "text/html": "(10 rows affected)"
                    },
                    "metadata": {}
                },
                {
                    "output_type": "display_data",
                    "data": {
                        "text/html": "Total execution time: 00:00:00.052"
                    },
                    "metadata": {}
                },
                {
                    "output_type": "execute_result",
                    "metadata": {},
                    "execution_count": 6,
                    "data": {
                        "application/vnd.dataresource+json": {
                            "schema": {
                                "fields": [
                                    {
                                        "name": "Location"
                                    },
                                    {
                                        "name": "population"
                                    },
                                    {
                                        "name": "HighestInfectionCount"
                                    },
                                    {
                                        "name": "InfectionPercentage"
                                    }
                                ]
                            },
                            "data": [
                                {
                                    "0": "Andorra",
                                    "1": "77265",
                                    "2": "13232",
                                    "3": "17.125477253607713"
                                },
                                {
                                    "0": "Montenegro",
                                    "1": "628062",
                                    "2": "97389",
                                    "3": "15.506271673815641"
                                },
                                {
                                    "0": "Czechia",
                                    "1": "10708982",
                                    "2": "1630758",
                                    "3": "15.22794603632726"
                                },
                                {
                                    "0": "San Marino",
                                    "1": "33938",
                                    "2": "5066",
                                    "3": "14.92722022511639"
                                },
                                {
                                    "0": "Slovenia",
                                    "1": "2078932",
                                    "2": "240292",
                                    "3": "11.558434811720634"
                                },
                                {
                                    "0": "Luxembourg",
                                    "1": "625976",
                                    "2": "67205",
                                    "3": "10.736034608355592"
                                },
                                {
                                    "0": "Bahrain",
                                    "1": "1701583",
                                    "2": "176934",
                                    "3": "10.398199793956568"
                                },
                                {
                                    "0": "Serbia",
                                    "1": "6804596",
                                    "2": "689557",
                                    "3": "10.133694932072382"
                                },
                                {
                                    "0": "United States",
                                    "1": "331002647",
                                    "2": "32346971",
                                    "3": "9.772420641699581"
                                },
                                {
                                    "0": "Israel",
                                    "1": "8655541",
                                    "2": "838481",
                                    "3": "9.687216547180586"
                                }
                            ]
                        },
                        "text/html": [
                            "<table>",
                            "<tr><th>Location</th><th>population</th><th>HighestInfectionCount</th><th>InfectionPercentage</th></tr>",
                            "<tr><td>Andorra</td><td>77265</td><td>13232</td><td>17.125477253607713</td></tr>",
                            "<tr><td>Montenegro</td><td>628062</td><td>97389</td><td>15.506271673815641</td></tr>",
                            "<tr><td>Czechia</td><td>10708982</td><td>1630758</td><td>15.22794603632726</td></tr>",
                            "<tr><td>San Marino</td><td>33938</td><td>5066</td><td>14.92722022511639</td></tr>",
                            "<tr><td>Slovenia</td><td>2078932</td><td>240292</td><td>11.558434811720634</td></tr>",
                            "<tr><td>Luxembourg</td><td>625976</td><td>67205</td><td>10.736034608355592</td></tr>",
                            "<tr><td>Bahrain</td><td>1701583</td><td>176934</td><td>10.398199793956568</td></tr>",
                            "<tr><td>Serbia</td><td>6804596</td><td>689557</td><td>10.133694932072382</td></tr>",
                            "<tr><td>United States</td><td>331002647</td><td>32346971</td><td>9.772420641699581</td></tr>",
                            "<tr><td>Israel</td><td>8655541</td><td>838481</td><td>9.687216547180586</td></tr>",
                            "</table>"
                        ]
                    }
                }
            ],
            "execution_count": 6
        },
        {
            "cell_type": "code",
            "source": [
                "-- calculate the total deaths by country\r\n",
                "Select top 10 Location, MAX(cast(Total_deaths as int)) as TotalDeathCount\r\n",
                "From CovidDeaths\r\n",
                "Where continent is not NULL\r\n",
                "Group by Location\r\n",
                "order by TotalDeathCount desc"
            ],
            "metadata": {
                "language": "sql",
                "azdata_cell_guid": "f3ed110b-c192-4d3a-9186-eefa40a9e333"
            },
            "outputs": [
                {
                    "output_type": "display_data",
                    "data": {
                        "text/html": "Warning: Null value is eliminated by an aggregate or other SET operation."
                    },
                    "metadata": {}
                },
                {
                    "output_type": "display_data",
                    "data": {
                        "text/html": "(10 rows affected)"
                    },
                    "metadata": {}
                },
                {
                    "output_type": "display_data",
                    "data": {
                        "text/html": "Total execution time: 00:00:00.056"
                    },
                    "metadata": {}
                },
                {
                    "output_type": "execute_result",
                    "metadata": {},
                    "execution_count": 5,
                    "data": {
                        "application/vnd.dataresource+json": {
                            "schema": {
                                "fields": [
                                    {
                                        "name": "Location"
                                    },
                                    {
                                        "name": "TotalDeathCount"
                                    }
                                ]
                            },
                            "data": [
                                {
                                    "0": "United States",
                                    "1": "576232"
                                },
                                {
                                    "0": "Brazil",
                                    "1": "403781"
                                },
                                {
                                    "0": "Mexico",
                                    "1": "216907"
                                },
                                {
                                    "0": "India",
                                    "1": "211853"
                                },
                                {
                                    "0": "United Kingdom",
                                    "1": "127775"
                                },
                                {
                                    "0": "Italy",
                                    "1": "120807"
                                },
                                {
                                    "0": "Russia",
                                    "1": "108290"
                                },
                                {
                                    "0": "France",
                                    "1": "104675"
                                },
                                {
                                    "0": "Germany",
                                    "1": "83097"
                                },
                                {
                                    "0": "Spain",
                                    "1": "78216"
                                }
                            ]
                        },
                        "text/html": [
                            "<table>",
                            "<tr><th>Location</th><th>TotalDeathCount</th></tr>",
                            "<tr><td>United States</td><td>576232</td></tr>",
                            "<tr><td>Brazil</td><td>403781</td></tr>",
                            "<tr><td>Mexico</td><td>216907</td></tr>",
                            "<tr><td>India</td><td>211853</td></tr>",
                            "<tr><td>United Kingdom</td><td>127775</td></tr>",
                            "<tr><td>Italy</td><td>120807</td></tr>",
                            "<tr><td>Russia</td><td>108290</td></tr>",
                            "<tr><td>France</td><td>104675</td></tr>",
                            "<tr><td>Germany</td><td>83097</td></tr>",
                            "<tr><td>Spain</td><td>78216</td></tr>",
                            "</table>"
                        ]
                    }
                }
            ],
            "execution_count": 5
        },
        {
            "cell_type": "code",
            "source": [
                "-- calculate the total deaths by continent\r\n",
                "Select continent, MAX(cast(Total_deaths as int)) as TotalDeathCount\r\n",
                "From CovidDeaths\r\n",
                "Where continent is not NULL\r\n",
                "Group by continent\r\n",
                "order by TotalDeathCount desc"
            ],
            "metadata": {
                "azdata_cell_guid": "2277c985-9c6e-4117-9b18-719a30d87d8e",
                "language": "sql"
            },
            "outputs": [
                {
                    "output_type": "display_data",
                    "data": {
                        "text/html": "Warning: Null value is eliminated by an aggregate or other SET operation."
                    },
                    "metadata": {}
                },
                {
                    "output_type": "display_data",
                    "data": {
                        "text/html": "(6 rows affected)"
                    },
                    "metadata": {}
                },
                {
                    "output_type": "display_data",
                    "data": {
                        "text/html": "Total execution time: 00:00:00.049"
                    },
                    "metadata": {}
                },
                {
                    "output_type": "execute_result",
                    "execution_count": 8,
                    "data": {
                        "application/vnd.dataresource+json": {
                            "schema": {
                                "fields": [
                                    {
                                        "name": "continent"
                                    },
                                    {
                                        "name": "TotalDeathCount"
                                    }
                                ]
                            },
                            "data": [
                                {
                                    "0": "North America",
                                    "1": "576232"
                                },
                                {
                                    "0": "South America",
                                    "1": "403781"
                                },
                                {
                                    "0": "Asia",
                                    "1": "211853"
                                },
                                {
                                    "0": "Europe",
                                    "1": "127775"
                                },
                                {
                                    "0": "Africa",
                                    "1": "54350"
                                },
                                {
                                    "0": "Oceania",
                                    "1": "910"
                                }
                            ]
                        },
                        "text/html": "<table><tr><th>continent</th><th>TotalDeathCount</th></tr><tr><td>North America</td><td>576232</td></tr><tr><td>South America</td><td>403781</td></tr><tr><td>Asia</td><td>211853</td></tr><tr><td>Europe</td><td>127775</td></tr><tr><td>Africa</td><td>54350</td></tr><tr><td>Oceania</td><td>910</td></tr></table>"
                    },
                    "metadata": {}
                }
            ],
            "execution_count": 8
        },
        {
            "cell_type": "code",
            "source": [
                "-- calculate the death percentage by date\r\n",
                "Select top 10 date, SUM(new_cases) as total_cases, SUM(cast(new_deaths as int)) as total_deaths, SUM(cast(new_deaths as int))/SUM(new_cases)*100 as DeathPercentage\r\n",
                "From CovidDeaths\r\n",
                "Where continent is not NULL\r\n",
                "Group By date\r\n",
                "order by 1, 2"
            ],
            "metadata": {
                "azdata_cell_guid": "e4b0d4bc-ac1b-4369-b719-265faa33417e",
                "language": "sql"
            },
            "outputs": [
                {
                    "output_type": "display_data",
                    "data": {
                        "text/html": "Warning: Null value is eliminated by an aggregate or other SET operation."
                    },
                    "metadata": {}
                },
                {
                    "output_type": "display_data",
                    "data": {
                        "text/html": "(10 rows affected)"
                    },
                    "metadata": {}
                },
                {
                    "output_type": "display_data",
                    "data": {
                        "text/html": "Total execution time: 00:00:00.052"
                    },
                    "metadata": {}
                },
                {
                    "output_type": "execute_result",
                    "metadata": {},
                    "execution_count": 7,
                    "data": {
                        "application/vnd.dataresource+json": {
                            "schema": {
                                "fields": [
                                    {
                                        "name": "date"
                                    },
                                    {
                                        "name": "total_cases"
                                    },
                                    {
                                        "name": "total_deaths"
                                    },
                                    {
                                        "name": "DeathPercentage"
                                    }
                                ]
                            },
                            "data": [
                                {
                                    "0": "2020-01-01 00:00:00.000",
                                    "1": "NULL",
                                    "2": "NULL",
                                    "3": "NULL"
                                },
                                {
                                    "0": "2020-01-02 00:00:00.000",
                                    "1": "NULL",
                                    "2": "NULL",
                                    "3": "NULL"
                                },
                                {
                                    "0": "2020-01-03 00:00:00.000",
                                    "1": "NULL",
                                    "2": "NULL",
                                    "3": "NULL"
                                },
                                {
                                    "0": "2020-01-04 00:00:00.000",
                                    "1": "NULL",
                                    "2": "NULL",
                                    "3": "NULL"
                                },
                                {
                                    "0": "2020-01-05 00:00:00.000",
                                    "1": "NULL",
                                    "2": "NULL",
                                    "3": "NULL"
                                },
                                {
                                    "0": "2020-01-06 00:00:00.000",
                                    "1": "NULL",
                                    "2": "NULL",
                                    "3": "NULL"
                                },
                                {
                                    "0": "2020-01-07 00:00:00.000",
                                    "1": "NULL",
                                    "2": "NULL",
                                    "3": "NULL"
                                },
                                {
                                    "0": "2020-01-08 00:00:00.000",
                                    "1": "NULL",
                                    "2": "NULL",
                                    "3": "NULL"
                                },
                                {
                                    "0": "2020-01-09 00:00:00.000",
                                    "1": "NULL",
                                    "2": "NULL",
                                    "3": "NULL"
                                },
                                {
                                    "0": "2020-01-10 00:00:00.000",
                                    "1": "NULL",
                                    "2": "NULL",
                                    "3": "NULL"
                                }
                            ]
                        },
                        "text/html": [
                            "<table>",
                            "<tr><th>date</th><th>total_cases</th><th>total_deaths</th><th>DeathPercentage</th></tr>",
                            "<tr><td>2020-01-01 00:00:00.000</td><td>NULL</td><td>NULL</td><td>NULL</td></tr>",
                            "<tr><td>2020-01-02 00:00:00.000</td><td>NULL</td><td>NULL</td><td>NULL</td></tr>",
                            "<tr><td>2020-01-03 00:00:00.000</td><td>NULL</td><td>NULL</td><td>NULL</td></tr>",
                            "<tr><td>2020-01-04 00:00:00.000</td><td>NULL</td><td>NULL</td><td>NULL</td></tr>",
                            "<tr><td>2020-01-05 00:00:00.000</td><td>NULL</td><td>NULL</td><td>NULL</td></tr>",
                            "<tr><td>2020-01-06 00:00:00.000</td><td>NULL</td><td>NULL</td><td>NULL</td></tr>",
                            "<tr><td>2020-01-07 00:00:00.000</td><td>NULL</td><td>NULL</td><td>NULL</td></tr>",
                            "<tr><td>2020-01-08 00:00:00.000</td><td>NULL</td><td>NULL</td><td>NULL</td></tr>",
                            "<tr><td>2020-01-09 00:00:00.000</td><td>NULL</td><td>NULL</td><td>NULL</td></tr>",
                            "<tr><td>2020-01-10 00:00:00.000</td><td>NULL</td><td>NULL</td><td>NULL</td></tr>",
                            "</table>"
                        ]
                    }
                }
            ],
            "execution_count": 7
        },
        {
            "cell_type": "code",
            "source": [
                "-- calcate the death percentage across the studied period\r\n",
                "Select SUM(new_cases) as total_cases, SUM(cast(new_deaths as int)) as total_deaths, SUM(cast(new_deaths as int))/SUM(new_cases)*100 as DeathPercentage\r\n",
                "From CovidDeaths\r\n",
                "Where continent is not NULL\r\n",
                "order by 1, 2"
            ],
            "metadata": {
                "language": "sql",
                "azdata_cell_guid": "515a1112-00a4-47e8-82bb-242e1f5e3edd"
            },
            "outputs": [
                {
                    "output_type": "display_data",
                    "data": {
                        "text/html": "Warning: Null value is eliminated by an aggregate or other SET operation."
                    },
                    "metadata": {}
                },
                {
                    "output_type": "display_data",
                    "data": {
                        "text/html": "(1 row affected)"
                    },
                    "metadata": {}
                },
                {
                    "output_type": "display_data",
                    "data": {
                        "text/html": "Total execution time: 00:00:00.027"
                    },
                    "metadata": {}
                },
                {
                    "output_type": "execute_result",
                    "execution_count": 11,
                    "data": {
                        "application/vnd.dataresource+json": {
                            "schema": {
                                "fields": [
                                    {
                                        "name": "total_cases"
                                    },
                                    {
                                        "name": "total_deaths"
                                    },
                                    {
                                        "name": "DeathPercentage"
                                    }
                                ]
                            },
                            "data": [
                                {
                                    "0": "150574977",
                                    "1": "3180206",
                                    "2": "2.1120414981036326"
                                }
                            ]
                        },
                        "text/html": "<table><tr><th>total_cases</th><th>total_deaths</th><th>DeathPercentage</th></tr><tr><td>150574977</td><td>3180206</td><td>2.1120414981036326</td></tr></table>"
                    },
                    "metadata": {}
                }
            ],
            "execution_count": 11
        }
    ]
}